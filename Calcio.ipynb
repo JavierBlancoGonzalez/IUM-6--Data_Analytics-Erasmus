{
 "cells": [
  {
   "cell_type": "code",
   "execution_count": 38,
   "outputs": [],
   "source": [
    "import pymongo\n",
    "\n",
    "def create_connection():\n",
    "    try:\n",
    "        client = pymongo.MongoClient(\"mongodb://localhost:27017/\")\n",
    "        return client[\"IUM\"], client\n",
    "    except pymongo.errors.ConnectionFailure as e:\n",
    "        print(f\"Connection failed: {e}\")\n",
    "        return None, None\n",
    "\n",
    "\n",
    "def close_connection(client):\n",
    "    # Close connection\n",
    "    if client is not None:  # Check for None explicitly\n",
    "        client.close()\n",
    " "
   ],
   "metadata": {
    "collapsed": false,
    "ExecuteTime": {
     "end_time": "2024-01-16T18:50:30.506778100Z",
     "start_time": "2024-01-16T18:50:30.477103600Z"
    }
   },
   "id": "35acdc061e5d707f"
  },
  {
   "cell_type": "markdown",
   "source": [
    "The stats will be about a subject chosen between:\n",
    " - \"players\"\n",
    " - \"clubs\"\n",
    " - \"competitions\""
   ],
   "metadata": {
    "collapsed": false
   },
   "id": "1d3313129fe44a82"
  },
  {
   "cell_type": "code",
   "execution_count": 39,
   "outputs": [],
   "source": [
    "subject = \"players\""
   ],
   "metadata": {
    "collapsed": false,
    "ExecuteTime": {
     "end_time": "2024-01-16T18:50:30.522867900Z",
     "start_time": "2024-01-16T18:50:30.489601600Z"
    }
   },
   "id": "3dd1780c70eb6167"
  },
  {
   "cell_type": "markdown",
   "source": [
    "The user defines the stats that wants to see. Stats is a tuple of 3 integer elements, always in the next order:\n",
    "(Goals, Assists, Cards)\n",
    "Here are some examples of how the tuple could be in different cases:\n",
    "If the user wants to see the only goals and assists, the value of the tuple will be (1,1,0).\n",
    "If the user wants to see the only goals and cards, the value of the tuple will be (1,0,1).\n",
    "If the user wants to see the only goals, the value of the tuple will be (1,0,0).\n",
    "If the user wants to see those three assists, the value of the tuple will be (1,1,1)."
   ],
   "metadata": {
    "collapsed": false
   },
   "id": "95b05125140ed71b"
  },
  {
   "cell_type": "code",
   "execution_count": 40,
   "outputs": [],
   "source": [
    "stats = (1,0,1)"
   ],
   "metadata": {
    "collapsed": false,
    "ExecuteTime": {
     "end_time": "2024-01-16T18:50:30.523869Z",
     "start_time": "2024-01-16T18:50:30.494170400Z"
    }
   },
   "id": "229e7923ac528319"
  },
  {
   "cell_type": "markdown",
   "source": [
    "Choose the information of the subject to search for stats, the options are:\n",
    " - \"name\"\n",
    " - \"country\""
   ],
   "metadata": {
    "collapsed": false
   },
   "id": "d7d837fc7994a5d"
  },
  {
   "cell_type": "code",
   "execution_count": 41,
   "outputs": [],
   "source": [
    "subject_info = \"name\""
   ],
   "metadata": {
    "collapsed": false,
    "ExecuteTime": {
     "end_time": "2024-01-16T18:50:30.576058400Z",
     "start_time": "2024-01-16T18:50:30.500866Z"
    }
   },
   "id": "47348e108c928f42"
  },
  {
   "cell_type": "markdown",
   "source": [
    "Once chosen, indicate here the name of the subject in case of \"name\", or the country in case of \"country\"."
   ],
   "metadata": {
    "collapsed": false
   },
   "id": "faa17977782c80c5"
  },
  {
   "cell_type": "markdown",
   "source": [
    "Last, it will be chosen the period of years in which the user want to get stats. If the user only wants the stats of one year, \"initial_year\" and \"final_year\" will have the same value. The range of years goes from 2012 to 2023."
   ],
   "metadata": {
    "collapsed": false
   },
   "id": "bda8dc4e258e9402"
  },
  {
   "cell_type": "code",
   "execution_count": 42,
   "outputs": [],
   "source": [
    "initial_year = 2012\n",
    "final_year = 2020"
   ],
   "metadata": {
    "collapsed": false,
    "ExecuteTime": {
     "end_time": "2024-01-16T18:50:30.577255800Z",
     "start_time": "2024-01-16T18:50:30.508185Z"
    }
   },
   "id": "b10cbf6d8085f707"
  },
  {
   "cell_type": "code",
   "execution_count": 43,
   "outputs": [],
   "source": [
    "db, client = create_connection()"
   ],
   "metadata": {
    "collapsed": false,
    "ExecuteTime": {
     "end_time": "2024-01-16T18:50:30.579523800Z",
     "start_time": "2024-01-16T18:50:30.512191800Z"
    }
   },
   "id": "7f6dee8cea222729"
  },
  {
   "cell_type": "code",
   "execution_count": 44,
   "outputs": [],
   "source": [
    "subject_info_key = \"Theo Janssen\""
   ],
   "metadata": {
    "collapsed": false,
    "ExecuteTime": {
     "end_time": "2024-01-16T18:50:30.580517300Z",
     "start_time": "2024-01-16T18:50:30.521357200Z"
    }
   },
   "id": "1f82582c9f55a5c8"
  },
  {
   "cell_type": "code",
   "execution_count": 45,
   "outputs": [],
   "source": [
    "def getPlayerId(db, name):\n",
    "    try:\n",
    "        # query_european_holidays = {\"visa\": {\"$exists\": False}}\n",
    "        #european_holidays = list(collection.find(query_european_holidays))\n",
    "        \n",
    "        collection = db[\"players\"]\n",
    "        query = {\"name\": name}\n",
    "        playerId = list(collection.find(query))\n",
    "        return playerId[0].get(\"player_id\")\n",
    "    except Exception as e:\n",
    "            print(f\"Retrieval of Clubs failed: {e}\")\n",
    "            return []"
   ],
   "metadata": {
    "collapsed": false,
    "ExecuteTime": {
     "end_time": "2024-01-16T18:50:30.580517300Z",
     "start_time": "2024-01-16T18:50:30.523869Z"
    }
   },
   "id": "eb66b4ac68064a63"
  },
  {
   "cell_type": "code",
   "execution_count": 46,
   "outputs": [
    {
     "name": "stdout",
     "output_type": "stream",
     "text": [
      "4425\n"
     ]
    }
   ],
   "source": [
    "print(getPlayerId(db, subject_info_key))"
   ],
   "metadata": {
    "collapsed": false,
    "ExecuteTime": {
     "end_time": "2024-01-16T18:50:30.580517300Z",
     "start_time": "2024-01-16T18:50:30.533611300Z"
    }
   },
   "id": "88da743c4e8ab60a"
  },
  {
   "cell_type": "code",
   "execution_count": 47,
   "outputs": [],
   "source": [
    "def player_stats(db, subject, stats, subject_info, subject_info_key, initial_year, final_year):\n",
    "    if subject == \"players\":\n",
    "        try:\n",
    "            main_collection = db[\"players\"]\n",
    "            collection_events = db[\"game_events\"]\n",
    "            player_id = getPlayerId(db,subject_info_key)\n",
    "            print(player_id)\n",
    "            pipeline = [\n",
    "                        {\n",
    "                           \"$lookup\": {\n",
    "                                 \"from\": \"game_events\", \n",
    "                                 \"localField\": \"player_id\", \n",
    "                                 \"foreignField\": \"player_id\", \n",
    "                                 \"as\": \"player_events\",\n",
    "                            }\n",
    "                        },\n",
    "                        {\n",
    "                            \"$match\": {\n",
    "                                \"player_id\": player_id\n",
    "                            }\n",
    "                        },\n",
    "                        {\n",
    "                            \"$unwind\": \"$player_events\"\n",
    "                        },\n",
    "                        {\n",
    "                            \"$group\": {\n",
    "                                \"_id\": \"$player_id\",\n",
    "                                \"total_goals\": {\n",
    "                                    \"$sum\": {\n",
    "                                        \"$cond\": [\n",
    "                                            {\"$eq\": [\"$player_events.type\", \"Goals\"]},\n",
    "                                            1,\n",
    "                                            0\n",
    "                                        ]\n",
    "                                    }\n",
    "                                },\n",
    "                                \"total_cards\": {\n",
    "                                    \"$sum\": {\n",
    "                                        \"$cond\": [\n",
    "                                            {\"$eq\": [\"$player_events.type\", \"Cards\"]},\n",
    "                                            1,\n",
    "                                            0\n",
    "                                        ]\n",
    "                                    }\n",
    "                                }\n",
    "                            }\n",
    "                        },\n",
    "                        {\n",
    "                            \"$project\": {\n",
    "                                \"_id\": 0,\n",
    "                                \"player_id\": \"$_id\",\n",
    "                                \"total_goals\": 1,\n",
    "                                \"total_cards\": 1\n",
    "                            }\n",
    "                        }\n",
    "                        \n",
    "            ]\n",
    "            resultado_agregacion = list(main_collection.aggregate(pipeline))\n",
    "            return resultado_agregacion\n",
    "        except Exception as e:\n",
    "            print(f\"Retrieval of Clubs failed: {e}\")\n",
    "            return []\n",
    "    else:\n",
    "        return []\n"
   ],
   "metadata": {
    "collapsed": false,
    "ExecuteTime": {
     "end_time": "2024-01-16T18:50:30.581517700Z",
     "start_time": "2024-01-16T18:50:30.556673600Z"
    }
   },
   "id": "initial_id"
  },
  {
   "cell_type": "code",
   "execution_count": 48,
   "outputs": [
    {
     "name": "stdout",
     "output_type": "stream",
     "text": [
      "4425\n",
      "{'total_goals': 6, 'total_cards': 8, 'player_id': 4425}\n"
     ]
    }
   ],
   "source": [
    "result = player_stats(db,\"players\",(1,0,0),\"country_of_citizenship\", subject_info_key, 2012,2012)\n",
    "for x in result:\n",
    "    print(x)"
   ],
   "metadata": {
    "collapsed": false,
    "ExecuteTime": {
     "end_time": "2024-01-16T18:50:31.190251100Z",
     "start_time": "2024-01-16T18:50:30.559735Z"
    }
   },
   "id": "657e5d51d57eb652"
  },
  {
   "cell_type": "code",
   "execution_count": 49,
   "outputs": [],
   "source": [
    "import matplotlib.pyplot as plt\n",
    "import seaborn as sns\n",
    "import pandas as pd\n",
    "import numpy as np"
   ],
   "metadata": {
    "collapsed": false,
    "ExecuteTime": {
     "end_time": "2024-01-16T18:50:31.200018600Z",
     "start_time": "2024-01-16T18:50:31.191325500Z"
    }
   },
   "id": "fed4c2e911a067c1"
  },
  {
   "cell_type": "code",
   "execution_count": 50,
   "outputs": [
    {
     "data": {
      "text/plain": "<Figure size 800x600 with 1 Axes>",
      "image/png": "[encoded data removed]"
     },
     "metadata": {},
     "output_type": "display_data"
    }
   ],
   "source": [
    "# Extraer el diccionario de la lista\n",
    "data = result[0]\n",
    "player_id = data.get(\"player_id\")\n",
    "data.pop('player_id', None)\n",
    "\n",
    "# Crear un DataFrame\n",
    "df = pd.DataFrame(list(data.items()), columns=['Event', 'Count'])\n",
    "\n",
    "# Configurar el estilo de seaborn\n",
    "sns.set(style=\"whitegrid\")\n",
    "\n",
    "# Crear el gráfico de pie\n",
    "plt.figure(figsize=(8, 6))\n",
    "plt.pie(df['Count'], labels=df['Event'], startangle=90, colors=sns.color_palette('pastel'))\n",
    "plt.title(f\"Eventos para el jugador {player_id}\")\n",
    "plt.show()\n"
   ],
   "metadata": {
    "collapsed": false,
    "ExecuteTime": {
     "end_time": "2024-01-16T18:50:31.283138500Z",
     "start_time": "2024-01-16T18:50:31.197989500Z"
    }
   },
   "id": "9ad5be1d0002e1bc"
  },
  {
   "cell_type": "code",
   "execution_count": 50,
   "outputs": [],
   "source": [],
   "metadata": {
    "collapsed": false,
    "ExecuteTime": {
     "end_time": "2024-01-16T18:50:31.283138500Z",
     "start_time": "2024-01-16T18:50:31.277396100Z"
    }
   },
   "id": "5ab0822cb7ced9b1"
  }
 ],
 "metadata": {
  "kernelspec": {
   "display_name": "Python 3",
   "language": "python",
   "name": "python3"
  },
  "language_info": {
   "codemirror_mode": {
    "name": "ipython",
    "version": 2
   },
   "file_extension": ".py",
   "mimetype": "text/x-python",
   "name": "python",
   "nbconvert_exporter": "python",
   "pygments_lexer": "ipython2",
   "version": "2.7.6"
  }
 },
 "nbformat": 4,
 "nbformat_minor": 5
}
