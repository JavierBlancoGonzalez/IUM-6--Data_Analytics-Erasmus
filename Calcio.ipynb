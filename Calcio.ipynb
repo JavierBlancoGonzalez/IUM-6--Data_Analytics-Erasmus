{
 "cells": [
  {
   "cell_type": "code",
   "execution_count": 10,
   "id": "initial_id",
   "metadata": {
    "collapsed": true,
    "ExecuteTime": {
     "end_time": "2024-01-15T21:42:28.737041400Z",
     "start_time": "2024-01-15T21:42:28.665374500Z"
    }
   },
   "outputs": [],
   "source": [
    "import pymongo\n",
    "\n",
    "def create_connection():\n",
    "    try:\n",
    "        client = pymongo.MongoClient(\"mongodb://localhost:27017/\")\n",
    "        return client[\"IUM-Calcio\"], client\n",
    "    except pymongo.errors.ConnectionFailure as e:\n",
    "        print(f\"Connection failed: {e}\")\n",
    "        return None, None\n",
    "\n",
    "\n",
    "def close_connection(client):\n",
    "    # Close connection\n",
    "    if client is not None:  # Check for None explicitly\n",
    "        client.close()\n",
    "        \n",
    "def retrieve(db):\n",
    "    try:\n",
    "        collection = db[\"clubs\"]\n",
    "        query_clubs = {\"average_age\": {\"$gt\": 25}, \"stadium_seats\": {\"$gt\": 80000}}\n",
    "        projection = {\"name\": 1}\n",
    "        old_players_clubs = list(collection.find(query_clubs, projection))\n",
    "        return old_players_clubs\n",
    "    except Exception as e:\n",
    "        print(f\"Retrieval of Clubs failed: {e}\")\n",
    "        return []\n",
    "    \n",
    "db, client = create_connection()\n"
   ]
  },
  {
   "cell_type": "code",
   "execution_count": null,
   "outputs": [],
   "source": [],
   "metadata": {
    "collapsed": false
   },
   "id": "657e5d51d57eb652"
  }
 ],
 "metadata": {
  "kernelspec": {
   "display_name": "Python 3",
   "language": "python",
   "name": "python3"
  },
  "language_info": {
   "codemirror_mode": {
    "name": "ipython",
    "version": 2
   },
   "file_extension": ".py",
   "mimetype": "text/x-python",
   "name": "python",
   "nbconvert_exporter": "python",
   "pygments_lexer": "ipython2",
   "version": "2.7.6"
  }
 },
 "nbformat": 4,
 "nbformat_minor": 5
}
