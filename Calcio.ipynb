{
 "cells": [
  {
   "cell_type": "code",
   "execution_count": 18,
   "id": "35acdc061e5d707f",
   "metadata": {
    "collapsed": false,
    "ExecuteTime": {
     "end_time": "2024-01-16T13:07:43.035890300Z",
     "start_time": "2024-01-16T13:07:43.024346500Z"
    }
   },
   "outputs": [],
   "source": [
    "import pymongo\n",
    "\n",
    "def create_connection():\n",
    "    try:\n",
    "        client = pymongo.MongoClient(\"mongodb://localhost:27017/\")\n",
    "        return client[\"IUM-Calcio\"], client\n",
    "    except pymongo.errors.ConnectionFailure as e:\n",
    "        print(f\"Connection failed: {e}\")\n",
    "        return None, None\n",
    "\n",
    "\n",
    "def close_connection(client):\n",
    "    # Close connection\n",
    "    if client is not None:  # Check for None explicitly\n",
    "        client.close()\n",
    " "
   ]
  },
  {
   "cell_type": "code",
   "outputs": [],
   "source": [
    "def retrieve(db, subject, stats, subject_info, subject_info_key, initial_year, final_year):\n",
    "    if subject == \"players\":\n",
    "        try:\n",
    "            main_collection = db[\"players\"]\n",
    "            collection_events = db[\"game_events\"]\n",
    "            pipeline = [\n",
    "                        {\n",
    "                           \"$lookup\": {\n",
    "                                 \"from\": \"game_events\", \n",
    "                                 \"localField\": \"player_id\", \n",
    "                                 \"foreignField\": \"player_id\", \n",
    "                                 \"as\": \"player_events\",\n",
    "                            }\n",
    "                        },\n",
    "                        {\n",
    "                            \"$match\": {\n",
    "                                \"player_id\": 4425 #4425\n",
    "                            }\n",
    "                        },\n",
    "                        {\n",
    "                            \"$unwind\": \"$player_events\"\n",
    "                        },\n",
    "                        {\n",
    "                            \"$match\": {\n",
    "                                \"player_events.type\": \"Goals\"\n",
    "                            }\n",
    "                        },\n",
    "                        {\n",
    "                            \"$group\": {\n",
    "                                \"_id\": \"$player_id\",\n",
    "                                \"total_goles\": {\"$sum\": 1}\n",
    "                            }\n",
    "                        },\n",
    "                        {\n",
    "                          \"$project\": {\n",
    "                              \"player_id\": 1,\n",
    "                              \"total_goles\": 1,\n",
    "                          }  \n",
    "                        },\n",
    "                        \n",
    "            ]\n",
    "            resultado_agregacion = list(main_collection.aggregate(pipeline))\n",
    "\n",
    "            return resultado_agregacion\n",
    "            #query_clubs = {subject_info: subject_info_key}\n",
    "            #projection = {\"goals\": stats[0], \"assists\": stats[1], \"cards\": stats[2]}\n",
    "            #old_players_clubs = list(main_collection.aggregate(query_clubs, projection, pipeline))\n",
    "            #return old_players_clubs\n",
    "        except Exception as e:\n",
    "            print(f\"Retrieval of Clubs failed: {e}\")\n",
    "            return []\n",
    "    else:\n",
    "        return []\n",
    "\n",
    "db, client = create_connection()"
   ],
   "metadata": {
    "collapsed": true,
    "ExecuteTime": {
     "end_time": "2024-01-16T13:37:22.937382400Z",
     "start_time": "2024-01-16T13:37:22.910628700Z"
    }
   },
   "id": "initial_id",
   "execution_count": 60
  },
  {
   "cell_type": "code",
   "execution_count": 61,
   "outputs": [
    {
     "name": "stdout",
     "output_type": "stream",
     "text": [
      "{'_id': 4425, 'total_goles': 6}\n"
     ]
    }
   ],
   "source": [
    "result = retrieve(db,\"players\",(1,0,0),\"country_of_citizenship\", \"Germany\", 2012,2012)\n",
    "for x in result:\n",
    "    print(x)"
   ],
   "metadata": {
    "collapsed": false,
    "ExecuteTime": {
     "end_time": "2024-01-16T13:37:25.249273900Z",
     "start_time": "2024-01-16T13:37:23.803010700Z"
    }
   },
   "id": "657e5d51d57eb652"
  },
  {
   "cell_type": "markdown",
   "source": [
    "The stats will be about a subject chosen between:\n",
    " - \"players\"\n",
    " - \"clubs\"\n",
    " - \"competitions\""
   ],
   "metadata": {
    "collapsed": false
   },
   "id": "1d3313129fe44a82"
  },
  {
   "cell_type": "code",
   "execution_count": 7,
   "outputs": [],
   "source": [
    "subject = \"players\""
   ],
   "metadata": {
    "collapsed": false,
    "ExecuteTime": {
     "end_time": "2024-01-16T13:02:18.709510400Z",
     "start_time": "2024-01-16T13:02:18.688500700Z"
    }
   },
   "id": "3dd1780c70eb6167"
  },
  {
   "cell_type": "markdown",
   "source": [
    "The user defines the stats that wants to see. Stats is a tuple of 3 integer elements, always in the next order:\n",
    "(Goals, Assists, Cards)\n",
    "Here are some examples of how the tuple could be in different cases:\n",
    "If the user wants to see the only goals and assists, the value of the tuple will be (1,1,0).\n",
    "If the user wants to see the only goals and cards, the value of the tuple will be (1,0,1).\n",
    "If the user wants to see the only goals, the value of the tuple will be (1,0,0).\n",
    "If the user wants to see those three assists, the value of the tuple will be (1,1,1)."
   ],
   "metadata": {
    "collapsed": false
   },
   "id": "95b05125140ed71b"
  },
  {
   "cell_type": "code",
   "execution_count": 8,
   "outputs": [],
   "source": [
    "stats = (1,0,1)"
   ],
   "metadata": {
    "collapsed": false,
    "ExecuteTime": {
     "end_time": "2024-01-16T13:02:18.764571400Z",
     "start_time": "2024-01-16T13:02:18.715162300Z"
    }
   },
   "id": "229e7923ac528319"
  },
  {
   "cell_type": "markdown",
   "source": [
    "Choose the information of the subject to search for stats, the options are:\n",
    " - \"name\"\n",
    " - \"country\""
   ],
   "metadata": {
    "collapsed": false
   },
   "id": "d7d837fc7994a5d"
  },
  {
   "cell_type": "code",
   "execution_count": 9,
   "outputs": [],
   "source": [
    "subject_info = \"name\""
   ],
   "metadata": {
    "collapsed": false,
    "ExecuteTime": {
     "end_time": "2024-01-16T13:02:18.829909600Z",
     "start_time": "2024-01-16T13:02:18.742551700Z"
    }
   },
   "id": "47348e108c928f42"
  },
  {
   "cell_type": "markdown",
   "source": [
    "Once chosen, indicate here the name of the subject in case of \"name\", or the country in case of \"country\"."
   ],
   "metadata": {
    "collapsed": false
   },
   "id": "faa17977782c80c5"
  },
  {
   "cell_type": "code",
   "execution_count": 10,
   "outputs": [],
   "source": [
    "subject_info_key = \"John\""
   ],
   "metadata": {
    "collapsed": false,
    "ExecuteTime": {
     "end_time": "2024-01-16T13:02:18.833911500Z",
     "start_time": "2024-01-16T13:02:18.774893500Z"
    }
   },
   "id": "1f82582c9f55a5c8"
  },
  {
   "cell_type": "markdown",
   "source": [
    "Last, it will be chosen the period of years in which the user want to get stats. If the user only wants the stats of one year, \"initial_year\" and \"final_year\" will have the same value. The range of years goes from 2012 to 2023."
   ],
   "metadata": {
    "collapsed": false
   },
   "id": "bda8dc4e258e9402"
  },
  {
   "cell_type": "code",
   "execution_count": 11,
   "outputs": [],
   "source": [
    "initial_year = 2012\n",
    "final_year = 2020"
   ],
   "metadata": {
    "collapsed": false,
    "ExecuteTime": {
     "end_time": "2024-01-16T13:02:18.889972200Z",
     "start_time": "2024-01-16T13:02:18.840951Z"
    }
   },
   "id": "b10cbf6d8085f707"
  },
  {
   "cell_type": "code",
   "execution_count": 11,
   "outputs": [],
   "source": [],
   "metadata": {
    "collapsed": false,
    "ExecuteTime": {
     "end_time": "2024-01-16T13:02:18.911879900Z",
     "start_time": "2024-01-16T13:02:18.897885700Z"
    }
   },
   "id": "1154ca9ec360dd3e"
  }
 ],
 "metadata": {
  "kernelspec": {
   "display_name": "Python 3",
   "language": "python",
   "name": "python3"
  },
  "language_info": {
   "codemirror_mode": {
    "name": "ipython",
    "version": 2
   },
   "file_extension": ".py",
   "mimetype": "text/x-python",
   "name": "python",
   "nbconvert_exporter": "python",
   "pygments_lexer": "ipython2",
   "version": "2.7.6"
  }
 },
 "nbformat": 4,
 "nbformat_minor": 5
}
