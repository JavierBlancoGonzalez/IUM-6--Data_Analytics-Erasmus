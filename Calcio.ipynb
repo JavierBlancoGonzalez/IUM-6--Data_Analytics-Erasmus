{
 "cells": [
  {
   "cell_type": "code",
   "execution_count": 9,
   "id": "initial_id",
   "metadata": {
    "collapsed": true,
    "ExecuteTime": {
     "end_time": "2024-01-16T11:42:15.383666400Z",
     "start_time": "2024-01-16T11:42:15.369244300Z"
    }
   },
   "outputs": [],
   "source": [
    "import pymongo\n",
    "\n",
    "def create_connection():\n",
    "    try:\n",
    "        client = pymongo.MongoClient(\"mongodb://localhost:27017/\")\n",
    "        return client[\"IUM\"], client\n",
    "    except pymongo.errors.ConnectionFailure as e:\n",
    "        print(f\"Connection failed: {e}\")\n",
    "        return None, None\n",
    "\n",
    "\n",
    "def close_connection(client):\n",
    "    # Close connection\n",
    "    if client is not None:  # Check for None explicitly\n",
    "        client.close()\n",
    "        \n",
    "def retrieve(db):\n",
    "    try:\n",
    "        collection = db[\"clubs\"]\n",
    "        query_clubs = {\"average_age\": {\"$gt\": 25}, \"stadium_seats\": {\"$gt\": 80000}}\n",
    "        projection = {\"name\": 1}\n",
    "        old_players_clubs = list(collection.find(query_clubs, projection))\n",
    "        return old_players_clubs\n",
    "    except Exception as e:\n",
    "        print(f\"Retrieval of Clubs failed: {e}\")\n",
    "        return []\n",
    "    \n",
    "db, client = create_connection()\n"
   ]
  },
  {
   "cell_type": "code",
   "execution_count": 8,
   "outputs": [
    {
     "name": "stdout",
     "output_type": "stream",
     "text": [
      "Torpedo Moscow\n",
      "Borussia Dortmund\n",
      "Real Madrid Club de Fútbol\n"
     ]
    }
   ],
   "source": [
    "result = retrieve(db)\n",
    "for document in result:\n",
    "    print(document.get(\"name\"))"
   ],
   "metadata": {
    "collapsed": false,
    "ExecuteTime": {
     "end_time": "2024-01-16T11:31:20.724964200Z",
     "start_time": "2024-01-16T11:31:20.712188500Z"
    }
   },
   "id": "657e5d51d57eb652"
  },
  {
   "cell_type": "markdown",
   "source": [
    "The stats will be about a subject chosen between:\n",
    " - \"players\"\n",
    " - \"clubs\"\n",
    " - \"competitions\""
   ],
   "metadata": {
    "collapsed": false
   },
   "id": "1d3313129fe44a82"
  },
  {
   "cell_type": "code",
   "execution_count": 6,
   "outputs": [],
   "source": [
    "subject = \"players\""
   ],
   "metadata": {
    "collapsed": false,
    "ExecuteTime": {
     "end_time": "2024-01-16T10:27:55.071481Z",
     "start_time": "2024-01-16T10:27:55.064478100Z"
    }
   },
   "id": "3dd1780c70eb6167"
  },
  {
   "cell_type": "markdown",
   "source": [
    "The user defines the stats that wants to see. Stats is a tuple of 3 integer elements, always in the next order:\n",
    "(Goals, Assists, Cards)\n",
    "Here are some examples of how the tuple could be in different cases:\n",
    "If the user wants to see the only goals and assists, the value of the tuple will be (1,1,0).\n",
    "If the user wants to see the only goals and cards, the value of the tuple will be (1,0,1).\n",
    "If the user wants to see the only goals, the value of the tuple will be (1,0,0).\n",
    "If the user wants to see those three assists, the value of the tuple will be (1,1,1)."
   ],
   "metadata": {
    "collapsed": false
   },
   "id": "95b05125140ed71b"
  },
  {
   "cell_type": "code",
   "execution_count": null,
   "outputs": [],
   "source": [
    "stats = (1,0,1)"
   ],
   "metadata": {
    "collapsed": false
   },
   "id": "229e7923ac528319"
  },
  {
   "cell_type": "markdown",
   "source": [
    "Choose the information of the subject to search for stats, the options are:\n",
    " - \"name\"\n",
    " - \"country\""
   ],
   "metadata": {
    "collapsed": false
   },
   "id": "d7d837fc7994a5d"
  },
  {
   "cell_type": "code",
   "execution_count": null,
   "outputs": [],
   "source": [
    "subject_info = \"name\""
   ],
   "metadata": {
    "collapsed": false
   },
   "id": "47348e108c928f42"
  },
  {
   "cell_type": "markdown",
   "source": [
    "Once chosen, indicate here the name of the subject in case of \"name\", or the country in case of \"country\"."
   ],
   "metadata": {
    "collapsed": false
   },
   "id": "faa17977782c80c5"
  },
  {
   "cell_type": "code",
   "execution_count": null,
   "outputs": [],
   "source": [
    "subject_info_key = \"John\""
   ],
   "metadata": {
    "collapsed": false
   },
   "id": "1f82582c9f55a5c8"
  },
  {
   "cell_type": "markdown",
   "source": [
    "Last, it will be chosen the period of years in which the user want to get stats. If the user only wants the stats of one year, \"initial_year\" and \"final_year\" will have the same value. The range of years goes from 2012 to 2023."
   ],
   "metadata": {
    "collapsed": false
   },
   "id": "bda8dc4e258e9402"
  },
  {
   "cell_type": "code",
   "execution_count": null,
   "outputs": [],
   "source": [
    "initial_year = 2012\n",
    "final_year = 2020"
   ],
   "metadata": {
    "collapsed": false
   },
   "id": "b10cbf6d8085f707"
  },
  {
   "cell_type": "code",
   "execution_count": null,
   "outputs": [],
   "source": [],
   "metadata": {
    "collapsed": false
   },
   "id": "d01be13d4edec251"
  }
 ],
 "metadata": {
  "kernelspec": {
   "display_name": "Python 3",
   "language": "python",
   "name": "python3"
  },
  "language_info": {
   "codemirror_mode": {
    "name": "ipython",
    "version": 2
   },
   "file_extension": ".py",
   "mimetype": "text/x-python",
   "name": "python",
   "nbconvert_exporter": "python",
   "pygments_lexer": "ipython2",
   "version": "2.7.6"
  }
 },
 "nbformat": 4,
 "nbformat_minor": 5
}
