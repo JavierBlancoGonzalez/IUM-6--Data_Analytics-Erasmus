{
 "cells": [
  {
   "cell_type": "code",
   "execution_count": 1,
   "outputs": [],
   "source": [
    "import matplotlib.pyplot as plt\n",
    "import seaborn as sns\n",
    "import pandas as pd\n",
    "import numpy as np"
   ],
   "metadata": {
    "collapsed": false,
    "ExecuteTime": {
     "end_time": "2024-01-16T18:07:19.357005600Z",
     "start_time": "2024-01-16T18:07:19.305296400Z"
    }
   },
   "id": "fed4c2e911a067c1"
  },
  {
   "cell_type": "code",
   "execution_count": 2,
   "outputs": [],
   "source": [
    "import pymongo\n",
    "\n",
    "def create_connection():\n",
    "    try:\n",
    "        client = pymongo.MongoClient(\"mongodb://localhost:27017/\")\n",
    "        return client[\"IUM\"], client\n",
    "    except pymongo.errors.ConnectionFailure as e:\n",
    "        print(f\"Connection failed: {e}\")\n",
    "        return None, None\n",
    "\n",
    "\n",
    "def close_connection(client):\n",
    "    # Close connection\n",
    "    if client is not None:  # Check for None explicitly\n",
    "        client.close()\n",
    " "
   ],
   "metadata": {
    "collapsed": false,
    "ExecuteTime": {
     "end_time": "2024-01-16T18:07:19.491180500Z",
     "start_time": "2024-01-16T18:07:19.312938400Z"
    }
   },
   "id": "35acdc061e5d707f"
  },
  {
   "cell_type": "code",
   "outputs": [],
   "source": [
    "def player_stats(db, subject, stats, subject_info, subject_info_key, initial_year, final_year):\n",
    "    if subject == \"players\":\n",
    "        try:\n",
    "            main_collection = db[\"players\"]\n",
    "            collection_events = db[\"game_events\"]\n",
    "            pipeline = [\n",
    "                        {\n",
    "                           \"$lookup\": {\n",
    "                                 \"from\": \"game_events\", \n",
    "                                 \"localField\": \"player_id\", \n",
    "                                 \"foreignField\": \"player_id\", \n",
    "                                 \"as\": \"player_events\",\n",
    "                            }\n",
    "                        },\n",
    "                        {\n",
    "                            \"$match\": {\n",
    "                                \"player_id\": 4425\n",
    "                                #subject_info: subject_info_key\n",
    "                            }\n",
    "                        },\n",
    "                        {\n",
    "                            \"$unwind\": \"$player_events\"\n",
    "                        },\n",
    "                        {\n",
    "                            \"$group\": {\n",
    "                                \"_id\": \"$player_id\",\n",
    "                                \"total_goals\": {\n",
    "                                    \"$sum\": {\n",
    "                                        \"$cond\": [\n",
    "                                            {\"$eq\": [\"$player_events.type\", \"Goals\"]},\n",
    "                                            1,\n",
    "                                            0\n",
    "                                        ]\n",
    "                                    }\n",
    "                                },\n",
    "                                \"total_assists\": {\n",
    "                                    \"$sum\": {\n",
    "                                        \"$cond\": [\n",
    "                                            {\n",
    "                                                \"$and\": [\n",
    "                                                    {\"$eq\": [\"$player_events.type\", \"Goals\"]},\n",
    "                                                    {\"$eq\": [\"$player_events.player_assist_id\", \"$player_id\"]}\n",
    "                                                ]\n",
    "                                            },\n",
    "                                            1,\n",
    "                                            0\n",
    "                                        ]\n",
    "                                    }\n",
    "                                },\n",
    "                                \"total_cards\": {\n",
    "                                    \"$sum\": {\n",
    "                                        \"$cond\": [\n",
    "                                            {\"$eq\": [\"$player_events.type\", \"Cards\"]},\n",
    "                                            1,\n",
    "                                            0\n",
    "                                        ]\n",
    "                                    }\n",
    "                                }\n",
    "                            }\n",
    "                        },\n",
    "                        {\n",
    "                            \"$project\": {\n",
    "                                \"_id\": 0,\n",
    "                                \"player_id\": \"$_id\",\n",
    "                                \"total_goals\": 1,\n",
    "                                \"total_assists\": 1,\n",
    "                                \"total_cards\": 1\n",
    "                            }\n",
    "                        }\n",
    "                        \n",
    "            ]\n",
    "            resultado_agregacion = list(main_collection.aggregate(pipeline))\n",
    "            return resultado_agregacion\n",
    "        except Exception as e:\n",
    "            print(f\"Retrieval of Clubs failed: {e}\")\n",
    "            return []\n",
    "    else:\n",
    "        return []\n",
    "\n",
    "db, client = create_connection()"
   ],
   "metadata": {
    "collapsed": true,
    "ExecuteTime": {
     "end_time": "2024-01-16T18:07:19.511084800Z",
     "start_time": "2024-01-16T18:07:19.492180900Z"
    }
   },
   "id": "initial_id",
   "execution_count": 3
  },
  {
   "cell_type": "code",
   "execution_count": 4,
   "outputs": [
    {
     "name": "stdout",
     "output_type": "stream",
     "text": [
      "{'total_goals': 6, 'total_assists': 0, 'total_cards': 8, 'player_id': 4425}\n"
     ]
    }
   ],
   "source": [
    "result = player_stats(db,\"players\",(1,0,0),\"country_of_citizenship\", \"Germany\", 2012,2012)\n",
    "for x in result:\n",
    "    print(x)"
   ],
   "metadata": {
    "collapsed": false,
    "ExecuteTime": {
     "end_time": "2024-01-16T18:07:20.863987800Z",
     "start_time": "2024-01-16T18:07:19.513070900Z"
    }
   },
   "id": "657e5d51d57eb652"
  },
  {
   "cell_type": "code",
   "execution_count": 5,
   "outputs": [
    {
     "data": {
      "text/plain": "[{'total_goals': 6, 'total_assists': 0, 'total_cards': 8, 'player_id': 4425}]"
     },
     "execution_count": 5,
     "metadata": {},
     "output_type": "execute_result"
    }
   ],
   "source": [
    "result"
   ],
   "metadata": {
    "collapsed": false,
    "ExecuteTime": {
     "end_time": "2024-01-16T18:07:20.875329800Z",
     "start_time": "2024-01-16T18:07:20.865986200Z"
    }
   },
   "id": "f4590b8f87a7706"
  },
  {
   "cell_type": "markdown",
   "source": [
    "The stats will be about a subject chosen between:\n",
    " - \"players\"\n",
    " - \"clubs\"\n",
    " - \"competitions\""
   ],
   "metadata": {
    "collapsed": false
   },
   "id": "1d3313129fe44a82"
  },
  {
   "cell_type": "code",
   "execution_count": 6,
   "outputs": [],
   "source": [
    "subject = \"players\""
   ],
   "metadata": {
    "collapsed": false,
    "ExecuteTime": {
     "end_time": "2024-01-16T18:07:20.913192400Z",
     "start_time": "2024-01-16T18:07:20.875329800Z"
    }
   },
   "id": "3dd1780c70eb6167"
  },
  {
   "cell_type": "markdown",
   "source": [
    "The user defines the stats that wants to see. Stats is a tuple of 3 integer elements, always in the next order:\n",
    "(Goals, Assists, Cards)\n",
    "Here are some examples of how the tuple could be in different cases:\n",
    "If the user wants to see the only goals and assists, the value of the tuple will be (1,1,0).\n",
    "If the user wants to see the only goals and cards, the value of the tuple will be (1,0,1).\n",
    "If the user wants to see the only goals, the value of the tuple will be (1,0,0).\n",
    "If the user wants to see those three assists, the value of the tuple will be (1,1,1)."
   ],
   "metadata": {
    "collapsed": false
   },
   "id": "95b05125140ed71b"
  },
  {
   "cell_type": "code",
   "execution_count": 7,
   "outputs": [],
   "source": [
    "stats = (1,0,1)"
   ],
   "metadata": {
    "collapsed": false,
    "ExecuteTime": {
     "end_time": "2024-01-16T18:07:20.925131500Z",
     "start_time": "2024-01-16T18:07:20.886336Z"
    }
   },
   "id": "229e7923ac528319"
  },
  {
   "cell_type": "markdown",
   "source": [
    "Choose the information of the subject to search for stats, the options are:\n",
    " - \"name\"\n",
    " - \"country\""
   ],
   "metadata": {
    "collapsed": false
   },
   "id": "d7d837fc7994a5d"
  },
  {
   "cell_type": "code",
   "execution_count": 8,
   "outputs": [],
   "source": [
    "subject_info = \"name\""
   ],
   "metadata": {
    "collapsed": false,
    "ExecuteTime": {
     "end_time": "2024-01-16T18:07:20.925131500Z",
     "start_time": "2024-01-16T18:07:20.896888200Z"
    }
   },
   "id": "47348e108c928f42"
  },
  {
   "cell_type": "markdown",
   "source": [
    "Once chosen, indicate here the name of the subject in case of \"name\", or the country in case of \"country\"."
   ],
   "metadata": {
    "collapsed": false
   },
   "id": "faa17977782c80c5"
  },
  {
   "cell_type": "code",
   "execution_count": 9,
   "outputs": [],
   "source": [
    "subject_info_key = \"John\""
   ],
   "metadata": {
    "collapsed": false,
    "ExecuteTime": {
     "end_time": "2024-01-16T18:07:20.925131500Z",
     "start_time": "2024-01-16T18:07:20.907779300Z"
    }
   },
   "id": "1f82582c9f55a5c8"
  },
  {
   "cell_type": "markdown",
   "source": [
    "Last, it will be chosen the period of years in which the user want to get stats. If the user only wants the stats of one year, \"initial_year\" and \"final_year\" will have the same value. The range of years goes from 2012 to 2023."
   ],
   "metadata": {
    "collapsed": false
   },
   "id": "bda8dc4e258e9402"
  },
  {
   "cell_type": "code",
   "execution_count": 10,
   "outputs": [],
   "source": [
    "initial_year = 2012\n",
    "final_year = 2020"
   ],
   "metadata": {
    "collapsed": false,
    "ExecuteTime": {
     "end_time": "2024-01-16T18:07:20.925131500Z",
     "start_time": "2024-01-16T18:07:20.915192900Z"
    }
   },
   "id": "b10cbf6d8085f707"
  },
  {
   "cell_type": "code",
   "execution_count": 16,
   "outputs": [
    {
     "data": {
      "text/plain": "<Figure size 800x600 with 1 Axes>",
      "image/png": "[encoded data removed]"
     },
     "metadata": {},
     "output_type": "display_data"
    }
   ],
   "source": [
    "# Datos de la variable 'result'\n",
    "result = [{'total_goals': 6, 'total_assists': 0, 'total_cards': 8, 'player_id': 4425}]\n",
    "\n",
    "# Extraer el diccionario de la lista\n",
    "data = result[0]\n",
    "player_id = data.get(\"player_id\")\n",
    "data.pop('player_id', None)\n",
    "\n",
    "# Crear un DataFrame\n",
    "df = pd.DataFrame(list(data.items()), columns=['Event', 'Count'])\n",
    "\n",
    "# Configurar el estilo de seaborn\n",
    "sns.set(style=\"whitegrid\")\n",
    "\n",
    "# Crear el gráfico de pie\n",
    "plt.figure(figsize=(8, 6))\n",
    "plt.pie(df['Count'], labels=df['Event'], startangle=90, colors=sns.color_palette('pastel'))\n",
    "plt.title(f\"Eventos para el jugador {player_id}\")\n",
    "plt.show()\n"
   ],
   "metadata": {
    "collapsed": false,
    "ExecuteTime": {
     "end_time": "2024-01-16T18:12:46.234359800Z",
     "start_time": "2024-01-16T18:12:46.137559800Z"
    }
   },
   "id": "9ad5be1d0002e1bc"
  },
  {
   "cell_type": "code",
   "execution_count": null,
   "outputs": [],
   "source": [],
   "metadata": {
    "collapsed": false,
    "ExecuteTime": {
     "end_time": "2024-01-16T18:07:21.484645300Z",
     "start_time": "2024-01-16T18:07:21.482606500Z"
    }
   },
   "id": "5ab0822cb7ced9b1"
  }
 ],
 "metadata": {
  "kernelspec": {
   "display_name": "Python 3",
   "language": "python",
   "name": "python3"
  },
  "language_info": {
   "codemirror_mode": {
    "name": "ipython",
    "version": 2
   },
   "file_extension": ".py",
   "mimetype": "text/x-python",
   "name": "python",
   "nbconvert_exporter": "python",
   "pygments_lexer": "ipython2",
   "version": "2.7.6"
  }
 },
 "nbformat": 4,
 "nbformat_minor": 5
}
